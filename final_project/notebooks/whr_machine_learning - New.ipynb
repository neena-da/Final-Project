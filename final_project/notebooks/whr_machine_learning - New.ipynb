{
 "cells": [
  {
   "cell_type": "code",
   "execution_count": 2,
   "id": "620eab28",
   "metadata": {},
   "outputs": [
    {
     "name": "stderr",
     "output_type": "stream",
     "text": [
      "Using TensorFlow backend.\n"
     ]
    }
   ],
   "source": [
    "import numpy as np\n",
    "import pandas as pd\n",
    "import itertools\n",
    "import copy\n",
    "import os\n",
    "\n",
    "import random\n",
    "random.seed(0)\n",
    "\n",
    "from sklearn import preprocessing\n",
    "from sklearn.model_selection import train_test_split\n",
    "import seaborn as sns\n",
    "\n",
    "from statistics import mean\n",
    "\n",
    "from sklearn import datasets\n",
    "from sklearn.preprocessing import LabelEncoder\n",
    "from sklearn.preprocessing import StandardScaler\n",
    "from sklearn.model_selection import cross_val_score\n",
    "from sklearn.model_selection import train_test_split\n",
    "from sklearn import metrics\n",
    "from sklearn.model_selection import GridSearchCV\n",
    "from sklearn.preprocessing import StandardScaler\n",
    "\n",
    "import matplotlib.pyplot as plt\n",
    "import matplotlib.gridspec as gridspec\n",
    "\n",
    "# from mlxtend.plotting import plot_decision_regions\n",
    "# from mlxtend.preprocessing import shuffle_arrays_unison\n",
    "import seaborn as sns\n",
    "\n",
    "# from tqdm.notebook import tqdm_notebook as tqdm\n",
    "\n",
    "from sklearn.preprocessing import PolynomialFeatures\n",
    "from sklearn.metrics import mean_squared_error\n",
    "import operator\n",
    "import numpy as np\n",
    "import matplotlib.pyplot as plt\n",
    "from sklearn.linear_model import LinearRegression\n",
    "from sklearn.linear_model import Ridge\n",
    "from sklearn.linear_model import Lasso\n",
    "from sklearn.linear_model import RidgeCV\n",
    "from sklearn.linear_model import LassoCV\n",
    "from sklearn.linear_model import SGDRegressor\n",
    "from sklearn.neighbors import KNeighborsRegressor\n",
    "\n",
    "from math import log2, sqrt, isnan\n",
    "from sklearn.preprocessing import LabelEncoder\n",
    "from sklearn.tree import DecisionTreeClassifier\n",
    "from sklearn import metrics\n",
    "from sklearn import tree\n",
    "from sklearn import preprocessing\n",
    "import matplotlib.pyplot as plt\n",
    "import six\n",
    "from sklearn.ensemble import RandomForestClassifier\n",
    "from sklearn.tree import DecisionTreeRegressor\n",
    "from sklearn.ensemble import RandomForestRegressor\n",
    "from sklearn.ensemble import AdaBoostRegressor\n",
    "from sklearn.metrics import make_scorer\n",
    "from sklearn.tree import export_graphviz\n",
    "from six import StringIO  \n",
    "from IPython.display import Image  \n",
    "# import pydotplus\n",
    "# from tqdm.notebook import tqdm_notebook as tqdm\n",
    "from sklearn.model_selection import GridSearchCV\n",
    "\n",
    "from sklearn.preprocessing import Normalizer\n",
    "from sklearn.preprocessing import StandardScaler\n",
    "from sklearn.metrics import accuracy_score\n",
    "from sklearn.model_selection import KFold\n",
    "from collections import Counter\n",
    "\n",
    "from sklearn.metrics import accuracy_score\n",
    "from sklearn.neighbors import KNeighborsClassifier\n",
    "from keras.models import Sequential\n",
    "from keras.layers import Dense\n",
    "import matplotlib.pyplot as plt\n",
    "from keras.layers import Dropout\n",
    "from keras import regularizers\n",
    "from keras import backend as K\n",
    "from keras import callbacks\n",
    "\n",
    "from sklearn.impute import KNNImputer\n",
    "from sklearn.metrics import r2_score\n",
    "from sklearn.decomposition import PCA\n",
    "from sklearn.feature_selection import RFE"
   ]
  },
  {
   "cell_type": "code",
   "execution_count": 3,
   "id": "c6aa7d88",
   "metadata": {
    "scrolled": true
   },
   "outputs": [
    {
     "data": {
      "text/html": [
       "<div>\n",
       "<style scoped>\n",
       "    .dataframe tbody tr th:only-of-type {\n",
       "        vertical-align: middle;\n",
       "    }\n",
       "\n",
       "    .dataframe tbody tr th {\n",
       "        vertical-align: top;\n",
       "    }\n",
       "\n",
       "    .dataframe thead th {\n",
       "        text-align: right;\n",
       "    }\n",
       "</style>\n",
       "<table border=\"1\" class=\"dataframe\">\n",
       "  <thead>\n",
       "    <tr style=\"text-align: right;\">\n",
       "      <th></th>\n",
       "      <th>Country name</th>\n",
       "      <th>year</th>\n",
       "      <th>Life Ladder</th>\n",
       "      <th>Log GDP per capita</th>\n",
       "      <th>Social support</th>\n",
       "      <th>Healthy life expectancy at birth</th>\n",
       "      <th>Freedom to make life choices</th>\n",
       "      <th>Generosity</th>\n",
       "      <th>Perceptions of corruption</th>\n",
       "      <th>Positive affect</th>\n",
       "      <th>Negative affect</th>\n",
       "    </tr>\n",
       "  </thead>\n",
       "  <tbody>\n",
       "    <tr>\n",
       "      <th>0</th>\n",
       "      <td>Afghanistan</td>\n",
       "      <td>2008</td>\n",
       "      <td>3.724</td>\n",
       "      <td>7.370</td>\n",
       "      <td>0.451</td>\n",
       "      <td>50.80</td>\n",
       "      <td>0.718</td>\n",
       "      <td>0.168</td>\n",
       "      <td>0.882</td>\n",
       "      <td>0.518</td>\n",
       "      <td>0.258</td>\n",
       "    </tr>\n",
       "    <tr>\n",
       "      <th>1</th>\n",
       "      <td>Afghanistan</td>\n",
       "      <td>2009</td>\n",
       "      <td>4.402</td>\n",
       "      <td>7.540</td>\n",
       "      <td>0.552</td>\n",
       "      <td>51.20</td>\n",
       "      <td>0.679</td>\n",
       "      <td>0.190</td>\n",
       "      <td>0.850</td>\n",
       "      <td>0.584</td>\n",
       "      <td>0.237</td>\n",
       "    </tr>\n",
       "    <tr>\n",
       "      <th>2</th>\n",
       "      <td>Afghanistan</td>\n",
       "      <td>2010</td>\n",
       "      <td>4.758</td>\n",
       "      <td>7.647</td>\n",
       "      <td>0.539</td>\n",
       "      <td>51.60</td>\n",
       "      <td>0.600</td>\n",
       "      <td>0.121</td>\n",
       "      <td>0.707</td>\n",
       "      <td>0.618</td>\n",
       "      <td>0.275</td>\n",
       "    </tr>\n",
       "    <tr>\n",
       "      <th>3</th>\n",
       "      <td>Afghanistan</td>\n",
       "      <td>2011</td>\n",
       "      <td>3.832</td>\n",
       "      <td>7.620</td>\n",
       "      <td>0.521</td>\n",
       "      <td>51.92</td>\n",
       "      <td>0.496</td>\n",
       "      <td>0.162</td>\n",
       "      <td>0.731</td>\n",
       "      <td>0.611</td>\n",
       "      <td>0.267</td>\n",
       "    </tr>\n",
       "    <tr>\n",
       "      <th>4</th>\n",
       "      <td>Afghanistan</td>\n",
       "      <td>2012</td>\n",
       "      <td>3.783</td>\n",
       "      <td>7.705</td>\n",
       "      <td>0.521</td>\n",
       "      <td>52.24</td>\n",
       "      <td>0.531</td>\n",
       "      <td>0.236</td>\n",
       "      <td>0.776</td>\n",
       "      <td>0.710</td>\n",
       "      <td>0.268</td>\n",
       "    </tr>\n",
       "  </tbody>\n",
       "</table>\n",
       "</div>"
      ],
      "text/plain": [
       "  Country name  year  Life Ladder  Log GDP per capita  Social support  \\\n",
       "0  Afghanistan  2008        3.724               7.370           0.451   \n",
       "1  Afghanistan  2009        4.402               7.540           0.552   \n",
       "2  Afghanistan  2010        4.758               7.647           0.539   \n",
       "3  Afghanistan  2011        3.832               7.620           0.521   \n",
       "4  Afghanistan  2012        3.783               7.705           0.521   \n",
       "\n",
       "   Healthy life expectancy at birth  Freedom to make life choices  Generosity  \\\n",
       "0                             50.80                         0.718       0.168   \n",
       "1                             51.20                         0.679       0.190   \n",
       "2                             51.60                         0.600       0.121   \n",
       "3                             51.92                         0.496       0.162   \n",
       "4                             52.24                         0.531       0.236   \n",
       "\n",
       "   Perceptions of corruption  Positive affect  Negative affect  \n",
       "0                      0.882            0.518            0.258  \n",
       "1                      0.850            0.584            0.237  \n",
       "2                      0.707            0.618            0.275  \n",
       "3                      0.731            0.611            0.267  \n",
       "4                      0.776            0.710            0.268  "
      ]
     },
     "execution_count": 3,
     "metadata": {},
     "output_type": "execute_result"
    }
   ],
   "source": [
    "whr_file = pd.read_csv('../data/csv/world-happiness-report.csv')\n",
    "whr_file.head()"
   ]
  },
  {
   "cell_type": "code",
   "execution_count": 4,
   "id": "053f61ed",
   "metadata": {},
   "outputs": [
    {
     "data": {
      "text/html": [
       "<div>\n",
       "<style scoped>\n",
       "    .dataframe tbody tr th:only-of-type {\n",
       "        vertical-align: middle;\n",
       "    }\n",
       "\n",
       "    .dataframe tbody tr th {\n",
       "        vertical-align: top;\n",
       "    }\n",
       "\n",
       "    .dataframe thead th {\n",
       "        text-align: right;\n",
       "    }\n",
       "</style>\n",
       "<table border=\"1\" class=\"dataframe\">\n",
       "  <thead>\n",
       "    <tr style=\"text-align: right;\">\n",
       "      <th></th>\n",
       "      <th>year</th>\n",
       "      <th>Life Ladder</th>\n",
       "      <th>Log GDP per capita</th>\n",
       "      <th>Social support</th>\n",
       "      <th>Healthy life expectancy at birth</th>\n",
       "      <th>Freedom to make life choices</th>\n",
       "      <th>Generosity</th>\n",
       "      <th>Perceptions of corruption</th>\n",
       "      <th>Positive affect</th>\n",
       "      <th>Negative affect</th>\n",
       "    </tr>\n",
       "  </thead>\n",
       "  <tbody>\n",
       "    <tr>\n",
       "      <th>count</th>\n",
       "      <td>1949.000000</td>\n",
       "      <td>1949.000000</td>\n",
       "      <td>1913.000000</td>\n",
       "      <td>1936.000000</td>\n",
       "      <td>1894.000000</td>\n",
       "      <td>1917.000000</td>\n",
       "      <td>1860.000000</td>\n",
       "      <td>1839.000000</td>\n",
       "      <td>1927.000000</td>\n",
       "      <td>1933.000000</td>\n",
       "    </tr>\n",
       "    <tr>\n",
       "      <th>mean</th>\n",
       "      <td>2013.216008</td>\n",
       "      <td>5.466705</td>\n",
       "      <td>9.368453</td>\n",
       "      <td>0.812552</td>\n",
       "      <td>63.359374</td>\n",
       "      <td>0.742558</td>\n",
       "      <td>0.000103</td>\n",
       "      <td>0.747125</td>\n",
       "      <td>0.710003</td>\n",
       "      <td>0.268544</td>\n",
       "    </tr>\n",
       "    <tr>\n",
       "      <th>std</th>\n",
       "      <td>4.166828</td>\n",
       "      <td>1.115711</td>\n",
       "      <td>1.154084</td>\n",
       "      <td>0.118482</td>\n",
       "      <td>7.510245</td>\n",
       "      <td>0.142093</td>\n",
       "      <td>0.162215</td>\n",
       "      <td>0.186789</td>\n",
       "      <td>0.107100</td>\n",
       "      <td>0.085168</td>\n",
       "    </tr>\n",
       "    <tr>\n",
       "      <th>min</th>\n",
       "      <td>2005.000000</td>\n",
       "      <td>2.375000</td>\n",
       "      <td>6.635000</td>\n",
       "      <td>0.290000</td>\n",
       "      <td>32.300000</td>\n",
       "      <td>0.258000</td>\n",
       "      <td>-0.335000</td>\n",
       "      <td>0.035000</td>\n",
       "      <td>0.322000</td>\n",
       "      <td>0.083000</td>\n",
       "    </tr>\n",
       "    <tr>\n",
       "      <th>25%</th>\n",
       "      <td>2010.000000</td>\n",
       "      <td>4.640000</td>\n",
       "      <td>8.464000</td>\n",
       "      <td>0.749750</td>\n",
       "      <td>58.685000</td>\n",
       "      <td>0.647000</td>\n",
       "      <td>-0.113000</td>\n",
       "      <td>0.690000</td>\n",
       "      <td>0.625500</td>\n",
       "      <td>0.206000</td>\n",
       "    </tr>\n",
       "    <tr>\n",
       "      <th>50%</th>\n",
       "      <td>2013.000000</td>\n",
       "      <td>5.386000</td>\n",
       "      <td>9.460000</td>\n",
       "      <td>0.835500</td>\n",
       "      <td>65.200000</td>\n",
       "      <td>0.763000</td>\n",
       "      <td>-0.025500</td>\n",
       "      <td>0.802000</td>\n",
       "      <td>0.722000</td>\n",
       "      <td>0.258000</td>\n",
       "    </tr>\n",
       "    <tr>\n",
       "      <th>75%</th>\n",
       "      <td>2017.000000</td>\n",
       "      <td>6.283000</td>\n",
       "      <td>10.353000</td>\n",
       "      <td>0.905000</td>\n",
       "      <td>68.590000</td>\n",
       "      <td>0.856000</td>\n",
       "      <td>0.091000</td>\n",
       "      <td>0.872000</td>\n",
       "      <td>0.799000</td>\n",
       "      <td>0.320000</td>\n",
       "    </tr>\n",
       "    <tr>\n",
       "      <th>max</th>\n",
       "      <td>2020.000000</td>\n",
       "      <td>8.019000</td>\n",
       "      <td>11.648000</td>\n",
       "      <td>0.987000</td>\n",
       "      <td>77.100000</td>\n",
       "      <td>0.985000</td>\n",
       "      <td>0.698000</td>\n",
       "      <td>0.983000</td>\n",
       "      <td>0.944000</td>\n",
       "      <td>0.705000</td>\n",
       "    </tr>\n",
       "  </tbody>\n",
       "</table>\n",
       "</div>"
      ],
      "text/plain": [
       "              year  Life Ladder  Log GDP per capita  Social support  \\\n",
       "count  1949.000000  1949.000000         1913.000000     1936.000000   \n",
       "mean   2013.216008     5.466705            9.368453        0.812552   \n",
       "std       4.166828     1.115711            1.154084        0.118482   \n",
       "min    2005.000000     2.375000            6.635000        0.290000   \n",
       "25%    2010.000000     4.640000            8.464000        0.749750   \n",
       "50%    2013.000000     5.386000            9.460000        0.835500   \n",
       "75%    2017.000000     6.283000           10.353000        0.905000   \n",
       "max    2020.000000     8.019000           11.648000        0.987000   \n",
       "\n",
       "       Healthy life expectancy at birth  Freedom to make life choices  \\\n",
       "count                       1894.000000                   1917.000000   \n",
       "mean                          63.359374                      0.742558   \n",
       "std                            7.510245                      0.142093   \n",
       "min                           32.300000                      0.258000   \n",
       "25%                           58.685000                      0.647000   \n",
       "50%                           65.200000                      0.763000   \n",
       "75%                           68.590000                      0.856000   \n",
       "max                           77.100000                      0.985000   \n",
       "\n",
       "        Generosity  Perceptions of corruption  Positive affect  \\\n",
       "count  1860.000000                1839.000000      1927.000000   \n",
       "mean      0.000103                   0.747125         0.710003   \n",
       "std       0.162215                   0.186789         0.107100   \n",
       "min      -0.335000                   0.035000         0.322000   \n",
       "25%      -0.113000                   0.690000         0.625500   \n",
       "50%      -0.025500                   0.802000         0.722000   \n",
       "75%       0.091000                   0.872000         0.799000   \n",
       "max       0.698000                   0.983000         0.944000   \n",
       "\n",
       "       Negative affect  \n",
       "count      1933.000000  \n",
       "mean          0.268544  \n",
       "std           0.085168  \n",
       "min           0.083000  \n",
       "25%           0.206000  \n",
       "50%           0.258000  \n",
       "75%           0.320000  \n",
       "max           0.705000  "
      ]
     },
     "execution_count": 4,
     "metadata": {},
     "output_type": "execute_result"
    }
   ],
   "source": [
    "whr_file.describe()"
   ]
  },
  {
   "cell_type": "code",
   "execution_count": 5,
   "id": "2ae360f3",
   "metadata": {},
   "outputs": [
    {
     "name": "stdout",
     "output_type": "stream",
     "text": [
      "<class 'pandas.core.frame.DataFrame'>\n",
      "RangeIndex: 1949 entries, 0 to 1948\n",
      "Data columns (total 11 columns):\n",
      " #   Column                            Non-Null Count  Dtype  \n",
      "---  ------                            --------------  -----  \n",
      " 0   Country name                      1949 non-null   object \n",
      " 1   year                              1949 non-null   int64  \n",
      " 2   Life Ladder                       1949 non-null   float64\n",
      " 3   Log GDP per capita                1913 non-null   float64\n",
      " 4   Social support                    1936 non-null   float64\n",
      " 5   Healthy life expectancy at birth  1894 non-null   float64\n",
      " 6   Freedom to make life choices      1917 non-null   float64\n",
      " 7   Generosity                        1860 non-null   float64\n",
      " 8   Perceptions of corruption         1839 non-null   float64\n",
      " 9   Positive affect                   1927 non-null   float64\n",
      " 10  Negative affect                   1933 non-null   float64\n",
      "dtypes: float64(9), int64(1), object(1)\n",
      "memory usage: 167.6+ KB\n"
     ]
    }
   ],
   "source": [
    "whr_file.info()"
   ]
  },
  {
   "cell_type": "code",
   "execution_count": 6,
   "id": "f0e67eca",
   "metadata": {},
   "outputs": [
    {
     "data": {
      "text/html": [
       "<div>\n",
       "<style scoped>\n",
       "    .dataframe tbody tr th:only-of-type {\n",
       "        vertical-align: middle;\n",
       "    }\n",
       "\n",
       "    .dataframe tbody tr th {\n",
       "        vertical-align: top;\n",
       "    }\n",
       "\n",
       "    .dataframe thead th {\n",
       "        text-align: right;\n",
       "    }\n",
       "</style>\n",
       "<table border=\"1\" class=\"dataframe\">\n",
       "  <thead>\n",
       "    <tr style=\"text-align: right;\">\n",
       "      <th></th>\n",
       "      <th>country</th>\n",
       "      <th>year</th>\n",
       "      <th>ladder</th>\n",
       "      <th>logGDP</th>\n",
       "      <th>social_support</th>\n",
       "      <th>healthy_life_expectancy</th>\n",
       "      <th>freedom</th>\n",
       "      <th>generosity</th>\n",
       "      <th>corruption</th>\n",
       "      <th>positive_affect</th>\n",
       "      <th>negative_affect</th>\n",
       "    </tr>\n",
       "  </thead>\n",
       "  <tbody>\n",
       "    <tr>\n",
       "      <th>0</th>\n",
       "      <td>Afghanistan</td>\n",
       "      <td>2008</td>\n",
       "      <td>3.724</td>\n",
       "      <td>7.370</td>\n",
       "      <td>0.451</td>\n",
       "      <td>50.80</td>\n",
       "      <td>0.718</td>\n",
       "      <td>0.168</td>\n",
       "      <td>0.882</td>\n",
       "      <td>0.518</td>\n",
       "      <td>0.258</td>\n",
       "    </tr>\n",
       "    <tr>\n",
       "      <th>1</th>\n",
       "      <td>Afghanistan</td>\n",
       "      <td>2009</td>\n",
       "      <td>4.402</td>\n",
       "      <td>7.540</td>\n",
       "      <td>0.552</td>\n",
       "      <td>51.20</td>\n",
       "      <td>0.679</td>\n",
       "      <td>0.190</td>\n",
       "      <td>0.850</td>\n",
       "      <td>0.584</td>\n",
       "      <td>0.237</td>\n",
       "    </tr>\n",
       "    <tr>\n",
       "      <th>2</th>\n",
       "      <td>Afghanistan</td>\n",
       "      <td>2010</td>\n",
       "      <td>4.758</td>\n",
       "      <td>7.647</td>\n",
       "      <td>0.539</td>\n",
       "      <td>51.60</td>\n",
       "      <td>0.600</td>\n",
       "      <td>0.121</td>\n",
       "      <td>0.707</td>\n",
       "      <td>0.618</td>\n",
       "      <td>0.275</td>\n",
       "    </tr>\n",
       "    <tr>\n",
       "      <th>3</th>\n",
       "      <td>Afghanistan</td>\n",
       "      <td>2011</td>\n",
       "      <td>3.832</td>\n",
       "      <td>7.620</td>\n",
       "      <td>0.521</td>\n",
       "      <td>51.92</td>\n",
       "      <td>0.496</td>\n",
       "      <td>0.162</td>\n",
       "      <td>0.731</td>\n",
       "      <td>0.611</td>\n",
       "      <td>0.267</td>\n",
       "    </tr>\n",
       "    <tr>\n",
       "      <th>4</th>\n",
       "      <td>Afghanistan</td>\n",
       "      <td>2012</td>\n",
       "      <td>3.783</td>\n",
       "      <td>7.705</td>\n",
       "      <td>0.521</td>\n",
       "      <td>52.24</td>\n",
       "      <td>0.531</td>\n",
       "      <td>0.236</td>\n",
       "      <td>0.776</td>\n",
       "      <td>0.710</td>\n",
       "      <td>0.268</td>\n",
       "    </tr>\n",
       "  </tbody>\n",
       "</table>\n",
       "</div>"
      ],
      "text/plain": [
       "       country  year  ladder  logGDP  social_support  healthy_life_expectancy  \\\n",
       "0  Afghanistan  2008   3.724   7.370           0.451                    50.80   \n",
       "1  Afghanistan  2009   4.402   7.540           0.552                    51.20   \n",
       "2  Afghanistan  2010   4.758   7.647           0.539                    51.60   \n",
       "3  Afghanistan  2011   3.832   7.620           0.521                    51.92   \n",
       "4  Afghanistan  2012   3.783   7.705           0.521                    52.24   \n",
       "\n",
       "   freedom  generosity  corruption  positive_affect  negative_affect  \n",
       "0    0.718       0.168       0.882            0.518            0.258  \n",
       "1    0.679       0.190       0.850            0.584            0.237  \n",
       "2    0.600       0.121       0.707            0.618            0.275  \n",
       "3    0.496       0.162       0.731            0.611            0.267  \n",
       "4    0.531       0.236       0.776            0.710            0.268  "
      ]
     },
     "execution_count": 6,
     "metadata": {},
     "output_type": "execute_result"
    }
   ],
   "source": [
    "whr_df = whr_file.rename(columns={'Country name': 'country', 'Life Ladder': 'ladder', 'Log GDP per capita': 'logGDP',\n",
    "                                 'Social support': 'social_support', 'Healthy life expectancy at birth': 'healthy_life_expectancy',\n",
    "                                 'Freedom to make life choices': 'freedom', 'Generosity': 'generosity',\n",
    "                                 'Perceptions of corruption': 'corruption', 'Positive affect': 'positive_affect',\n",
    "                                 'Negative affect': 'negative_affect'})\n",
    "whr_df.head()"
   ]
  },
  {
   "cell_type": "code",
   "execution_count": 7,
   "id": "a75b6271",
   "metadata": {},
   "outputs": [
    {
     "data": {
      "text/html": [
       "<div>\n",
       "<style scoped>\n",
       "    .dataframe tbody tr th:only-of-type {\n",
       "        vertical-align: middle;\n",
       "    }\n",
       "\n",
       "    .dataframe tbody tr th {\n",
       "        vertical-align: top;\n",
       "    }\n",
       "\n",
       "    .dataframe thead th {\n",
       "        text-align: right;\n",
       "    }\n",
       "</style>\n",
       "<table border=\"1\" class=\"dataframe\">\n",
       "  <thead>\n",
       "    <tr style=\"text-align: right;\">\n",
       "      <th></th>\n",
       "      <th>country</th>\n",
       "      <th>year</th>\n",
       "      <th>ladder</th>\n",
       "      <th>logGDP</th>\n",
       "      <th>social_support</th>\n",
       "      <th>healthy_life_expectancy</th>\n",
       "      <th>freedom</th>\n",
       "      <th>generosity</th>\n",
       "      <th>corruption</th>\n",
       "      <th>positive_affect</th>\n",
       "      <th>negative_affect</th>\n",
       "    </tr>\n",
       "  </thead>\n",
       "  <tbody>\n",
       "    <tr>\n",
       "      <th>0</th>\n",
       "      <td>Afghanistan</td>\n",
       "      <td>2015</td>\n",
       "      <td>3.983</td>\n",
       "      <td>7.702</td>\n",
       "      <td>0.529</td>\n",
       "      <td>53.2</td>\n",
       "      <td>0.389</td>\n",
       "      <td>0.080</td>\n",
       "      <td>0.881</td>\n",
       "      <td>0.554</td>\n",
       "      <td>0.339</td>\n",
       "    </tr>\n",
       "    <tr>\n",
       "      <th>1</th>\n",
       "      <td>Afghanistan</td>\n",
       "      <td>2016</td>\n",
       "      <td>4.220</td>\n",
       "      <td>7.697</td>\n",
       "      <td>0.559</td>\n",
       "      <td>53.0</td>\n",
       "      <td>0.523</td>\n",
       "      <td>0.042</td>\n",
       "      <td>0.793</td>\n",
       "      <td>0.565</td>\n",
       "      <td>0.348</td>\n",
       "    </tr>\n",
       "    <tr>\n",
       "      <th>2</th>\n",
       "      <td>Afghanistan</td>\n",
       "      <td>2017</td>\n",
       "      <td>2.662</td>\n",
       "      <td>7.697</td>\n",
       "      <td>0.491</td>\n",
       "      <td>52.8</td>\n",
       "      <td>0.427</td>\n",
       "      <td>-0.121</td>\n",
       "      <td>0.954</td>\n",
       "      <td>0.496</td>\n",
       "      <td>0.371</td>\n",
       "    </tr>\n",
       "    <tr>\n",
       "      <th>3</th>\n",
       "      <td>Albania</td>\n",
       "      <td>2015</td>\n",
       "      <td>4.607</td>\n",
       "      <td>9.403</td>\n",
       "      <td>0.639</td>\n",
       "      <td>67.8</td>\n",
       "      <td>0.704</td>\n",
       "      <td>-0.081</td>\n",
       "      <td>0.885</td>\n",
       "      <td>0.688</td>\n",
       "      <td>0.350</td>\n",
       "    </tr>\n",
       "    <tr>\n",
       "      <th>4</th>\n",
       "      <td>Albania</td>\n",
       "      <td>2016</td>\n",
       "      <td>4.511</td>\n",
       "      <td>9.437</td>\n",
       "      <td>0.638</td>\n",
       "      <td>68.1</td>\n",
       "      <td>0.730</td>\n",
       "      <td>-0.017</td>\n",
       "      <td>0.901</td>\n",
       "      <td>0.675</td>\n",
       "      <td>0.322</td>\n",
       "    </tr>\n",
       "    <tr>\n",
       "      <th>...</th>\n",
       "      <td>...</td>\n",
       "      <td>...</td>\n",
       "      <td>...</td>\n",
       "      <td>...</td>\n",
       "      <td>...</td>\n",
       "      <td>...</td>\n",
       "      <td>...</td>\n",
       "      <td>...</td>\n",
       "      <td>...</td>\n",
       "      <td>...</td>\n",
       "      <td>...</td>\n",
       "    </tr>\n",
       "    <tr>\n",
       "      <th>427</th>\n",
       "      <td>Zambia</td>\n",
       "      <td>2016</td>\n",
       "      <td>4.348</td>\n",
       "      <td>8.151</td>\n",
       "      <td>0.767</td>\n",
       "      <td>54.3</td>\n",
       "      <td>0.812</td>\n",
       "      <td>0.122</td>\n",
       "      <td>0.771</td>\n",
       "      <td>0.731</td>\n",
       "      <td>0.372</td>\n",
       "    </tr>\n",
       "    <tr>\n",
       "      <th>428</th>\n",
       "      <td>Zambia</td>\n",
       "      <td>2017</td>\n",
       "      <td>3.933</td>\n",
       "      <td>8.156</td>\n",
       "      <td>0.744</td>\n",
       "      <td>54.8</td>\n",
       "      <td>0.823</td>\n",
       "      <td>0.140</td>\n",
       "      <td>0.740</td>\n",
       "      <td>0.685</td>\n",
       "      <td>0.387</td>\n",
       "    </tr>\n",
       "    <tr>\n",
       "      <th>429</th>\n",
       "      <td>Zimbabwe</td>\n",
       "      <td>2015</td>\n",
       "      <td>3.703</td>\n",
       "      <td>7.992</td>\n",
       "      <td>0.736</td>\n",
       "      <td>53.8</td>\n",
       "      <td>0.667</td>\n",
       "      <td>-0.123</td>\n",
       "      <td>0.810</td>\n",
       "      <td>0.715</td>\n",
       "      <td>0.179</td>\n",
       "    </tr>\n",
       "    <tr>\n",
       "      <th>430</th>\n",
       "      <td>Zimbabwe</td>\n",
       "      <td>2016</td>\n",
       "      <td>3.735</td>\n",
       "      <td>7.984</td>\n",
       "      <td>0.768</td>\n",
       "      <td>54.4</td>\n",
       "      <td>0.733</td>\n",
       "      <td>-0.095</td>\n",
       "      <td>0.724</td>\n",
       "      <td>0.738</td>\n",
       "      <td>0.209</td>\n",
       "    </tr>\n",
       "    <tr>\n",
       "      <th>431</th>\n",
       "      <td>Zimbabwe</td>\n",
       "      <td>2017</td>\n",
       "      <td>3.638</td>\n",
       "      <td>8.016</td>\n",
       "      <td>0.754</td>\n",
       "      <td>55.0</td>\n",
       "      <td>0.753</td>\n",
       "      <td>-0.098</td>\n",
       "      <td>0.751</td>\n",
       "      <td>0.806</td>\n",
       "      <td>0.224</td>\n",
       "    </tr>\n",
       "  </tbody>\n",
       "</table>\n",
       "<p>432 rows × 11 columns</p>\n",
       "</div>"
      ],
      "text/plain": [
       "         country  year  ladder  logGDP  social_support  \\\n",
       "0    Afghanistan  2015   3.983   7.702           0.529   \n",
       "1    Afghanistan  2016   4.220   7.697           0.559   \n",
       "2    Afghanistan  2017   2.662   7.697           0.491   \n",
       "3        Albania  2015   4.607   9.403           0.639   \n",
       "4        Albania  2016   4.511   9.437           0.638   \n",
       "..           ...   ...     ...     ...             ...   \n",
       "427       Zambia  2016   4.348   8.151           0.767   \n",
       "428       Zambia  2017   3.933   8.156           0.744   \n",
       "429     Zimbabwe  2015   3.703   7.992           0.736   \n",
       "430     Zimbabwe  2016   3.735   7.984           0.768   \n",
       "431     Zimbabwe  2017   3.638   8.016           0.754   \n",
       "\n",
       "     healthy_life_expectancy  freedom  generosity  corruption  \\\n",
       "0                       53.2    0.389       0.080       0.881   \n",
       "1                       53.0    0.523       0.042       0.793   \n",
       "2                       52.8    0.427      -0.121       0.954   \n",
       "3                       67.8    0.704      -0.081       0.885   \n",
       "4                       68.1    0.730      -0.017       0.901   \n",
       "..                       ...      ...         ...         ...   \n",
       "427                     54.3    0.812       0.122       0.771   \n",
       "428                     54.8    0.823       0.140       0.740   \n",
       "429                     53.8    0.667      -0.123       0.810   \n",
       "430                     54.4    0.733      -0.095       0.724   \n",
       "431                     55.0    0.753      -0.098       0.751   \n",
       "\n",
       "     positive_affect  negative_affect  \n",
       "0              0.554            0.339  \n",
       "1              0.565            0.348  \n",
       "2              0.496            0.371  \n",
       "3              0.688            0.350  \n",
       "4              0.675            0.322  \n",
       "..               ...              ...  \n",
       "427            0.731            0.372  \n",
       "428            0.685            0.387  \n",
       "429            0.715            0.179  \n",
       "430            0.738            0.209  \n",
       "431            0.806            0.224  \n",
       "\n",
       "[432 rows x 11 columns]"
      ]
     },
     "execution_count": 7,
     "metadata": {},
     "output_type": "execute_result"
    }
   ],
   "source": [
    "whr_yr_filter_df = whr_df.loc[(whr_df['year'] >= 2015) & (whr_df['year'] <= 2017)]\n",
    "whr_yr_filter_df = whr_yr_filter_df.reset_index(drop=True)\n",
    "whr_yr_filter_df"
   ]
  },
  {
   "cell_type": "code",
   "execution_count": 8,
   "id": "960e4154",
   "metadata": {},
   "outputs": [
    {
     "data": {
      "text/html": [
       "<div>\n",
       "<style scoped>\n",
       "    .dataframe tbody tr th:only-of-type {\n",
       "        vertical-align: middle;\n",
       "    }\n",
       "\n",
       "    .dataframe tbody tr th {\n",
       "        vertical-align: top;\n",
       "    }\n",
       "\n",
       "    .dataframe thead th {\n",
       "        text-align: right;\n",
       "    }\n",
       "</style>\n",
       "<table border=\"1\" class=\"dataframe\">\n",
       "  <thead>\n",
       "    <tr style=\"text-align: right;\">\n",
       "      <th></th>\n",
       "      <th>country</th>\n",
       "      <th>year</th>\n",
       "      <th>ladder</th>\n",
       "      <th>logGDP</th>\n",
       "      <th>social_support</th>\n",
       "      <th>healthy_life_expectancy</th>\n",
       "      <th>freedom</th>\n",
       "      <th>generosity</th>\n",
       "      <th>corruption</th>\n",
       "    </tr>\n",
       "  </thead>\n",
       "  <tbody>\n",
       "    <tr>\n",
       "      <th>0</th>\n",
       "      <td>Afghanistan</td>\n",
       "      <td>2015</td>\n",
       "      <td>3.983</td>\n",
       "      <td>7.702</td>\n",
       "      <td>0.529</td>\n",
       "      <td>53.2</td>\n",
       "      <td>0.389</td>\n",
       "      <td>0.080</td>\n",
       "      <td>0.881</td>\n",
       "    </tr>\n",
       "    <tr>\n",
       "      <th>1</th>\n",
       "      <td>Afghanistan</td>\n",
       "      <td>2016</td>\n",
       "      <td>4.220</td>\n",
       "      <td>7.697</td>\n",
       "      <td>0.559</td>\n",
       "      <td>53.0</td>\n",
       "      <td>0.523</td>\n",
       "      <td>0.042</td>\n",
       "      <td>0.793</td>\n",
       "    </tr>\n",
       "    <tr>\n",
       "      <th>2</th>\n",
       "      <td>Afghanistan</td>\n",
       "      <td>2017</td>\n",
       "      <td>2.662</td>\n",
       "      <td>7.697</td>\n",
       "      <td>0.491</td>\n",
       "      <td>52.8</td>\n",
       "      <td>0.427</td>\n",
       "      <td>-0.121</td>\n",
       "      <td>0.954</td>\n",
       "    </tr>\n",
       "    <tr>\n",
       "      <th>3</th>\n",
       "      <td>Albania</td>\n",
       "      <td>2015</td>\n",
       "      <td>4.607</td>\n",
       "      <td>9.403</td>\n",
       "      <td>0.639</td>\n",
       "      <td>67.8</td>\n",
       "      <td>0.704</td>\n",
       "      <td>-0.081</td>\n",
       "      <td>0.885</td>\n",
       "    </tr>\n",
       "    <tr>\n",
       "      <th>4</th>\n",
       "      <td>Albania</td>\n",
       "      <td>2016</td>\n",
       "      <td>4.511</td>\n",
       "      <td>9.437</td>\n",
       "      <td>0.638</td>\n",
       "      <td>68.1</td>\n",
       "      <td>0.730</td>\n",
       "      <td>-0.017</td>\n",
       "      <td>0.901</td>\n",
       "    </tr>\n",
       "    <tr>\n",
       "      <th>...</th>\n",
       "      <td>...</td>\n",
       "      <td>...</td>\n",
       "      <td>...</td>\n",
       "      <td>...</td>\n",
       "      <td>...</td>\n",
       "      <td>...</td>\n",
       "      <td>...</td>\n",
       "      <td>...</td>\n",
       "      <td>...</td>\n",
       "    </tr>\n",
       "    <tr>\n",
       "      <th>427</th>\n",
       "      <td>Zambia</td>\n",
       "      <td>2016</td>\n",
       "      <td>4.348</td>\n",
       "      <td>8.151</td>\n",
       "      <td>0.767</td>\n",
       "      <td>54.3</td>\n",
       "      <td>0.812</td>\n",
       "      <td>0.122</td>\n",
       "      <td>0.771</td>\n",
       "    </tr>\n",
       "    <tr>\n",
       "      <th>428</th>\n",
       "      <td>Zambia</td>\n",
       "      <td>2017</td>\n",
       "      <td>3.933</td>\n",
       "      <td>8.156</td>\n",
       "      <td>0.744</td>\n",
       "      <td>54.8</td>\n",
       "      <td>0.823</td>\n",
       "      <td>0.140</td>\n",
       "      <td>0.740</td>\n",
       "    </tr>\n",
       "    <tr>\n",
       "      <th>429</th>\n",
       "      <td>Zimbabwe</td>\n",
       "      <td>2015</td>\n",
       "      <td>3.703</td>\n",
       "      <td>7.992</td>\n",
       "      <td>0.736</td>\n",
       "      <td>53.8</td>\n",
       "      <td>0.667</td>\n",
       "      <td>-0.123</td>\n",
       "      <td>0.810</td>\n",
       "    </tr>\n",
       "    <tr>\n",
       "      <th>430</th>\n",
       "      <td>Zimbabwe</td>\n",
       "      <td>2016</td>\n",
       "      <td>3.735</td>\n",
       "      <td>7.984</td>\n",
       "      <td>0.768</td>\n",
       "      <td>54.4</td>\n",
       "      <td>0.733</td>\n",
       "      <td>-0.095</td>\n",
       "      <td>0.724</td>\n",
       "    </tr>\n",
       "    <tr>\n",
       "      <th>431</th>\n",
       "      <td>Zimbabwe</td>\n",
       "      <td>2017</td>\n",
       "      <td>3.638</td>\n",
       "      <td>8.016</td>\n",
       "      <td>0.754</td>\n",
       "      <td>55.0</td>\n",
       "      <td>0.753</td>\n",
       "      <td>-0.098</td>\n",
       "      <td>0.751</td>\n",
       "    </tr>\n",
       "  </tbody>\n",
       "</table>\n",
       "<p>432 rows × 9 columns</p>\n",
       "</div>"
      ],
      "text/plain": [
       "         country  year  ladder  logGDP  social_support  \\\n",
       "0    Afghanistan  2015   3.983   7.702           0.529   \n",
       "1    Afghanistan  2016   4.220   7.697           0.559   \n",
       "2    Afghanistan  2017   2.662   7.697           0.491   \n",
       "3        Albania  2015   4.607   9.403           0.639   \n",
       "4        Albania  2016   4.511   9.437           0.638   \n",
       "..           ...   ...     ...     ...             ...   \n",
       "427       Zambia  2016   4.348   8.151           0.767   \n",
       "428       Zambia  2017   3.933   8.156           0.744   \n",
       "429     Zimbabwe  2015   3.703   7.992           0.736   \n",
       "430     Zimbabwe  2016   3.735   7.984           0.768   \n",
       "431     Zimbabwe  2017   3.638   8.016           0.754   \n",
       "\n",
       "     healthy_life_expectancy  freedom  generosity  corruption  \n",
       "0                       53.2    0.389       0.080       0.881  \n",
       "1                       53.0    0.523       0.042       0.793  \n",
       "2                       52.8    0.427      -0.121       0.954  \n",
       "3                       67.8    0.704      -0.081       0.885  \n",
       "4                       68.1    0.730      -0.017       0.901  \n",
       "..                       ...      ...         ...         ...  \n",
       "427                     54.3    0.812       0.122       0.771  \n",
       "428                     54.8    0.823       0.140       0.740  \n",
       "429                     53.8    0.667      -0.123       0.810  \n",
       "430                     54.4    0.733      -0.095       0.724  \n",
       "431                     55.0    0.753      -0.098       0.751  \n",
       "\n",
       "[432 rows x 9 columns]"
      ]
     },
     "execution_count": 8,
     "metadata": {},
     "output_type": "execute_result"
    }
   ],
   "source": [
    "final_df = whr_yr_filter_df[['country', 'year', 'ladder', 'logGDP', 'social_support', 'healthy_life_expectancy',\n",
    "                                'freedom', 'generosity', 'corruption']]\n",
    "final_df"
   ]
  },
  {
   "cell_type": "code",
   "execution_count": 9,
   "id": "9b51ab7a",
   "metadata": {},
   "outputs": [
    {
     "data": {
      "text/plain": [
       "<AxesSubplot:xlabel='healthy_life_expectancy', ylabel='ladder'>"
      ]
     },
     "execution_count": 9,
     "metadata": {},
     "output_type": "execute_result"
    },
    {
     "data": {
      "image/png": "[encoded data removed]",
      "text/plain": [
       "<Figure size 432x288 with 1 Axes>"
      ]
     },
     "metadata": {
      "needs_background": "light"
     },
     "output_type": "display_data"
    }
   ],
   "source": [
    "# How does healthy life expectancy affect the happiness score?\n",
    "final_df.plot.scatter(x= 'healthy_life_expectancy', y='ladder')"
   ]
  },
  {
   "cell_type": "code",
   "execution_count": 10,
   "id": "34e967f1",
   "metadata": {},
   "outputs": [
    {
     "data": {
      "text/plain": [
       "<AxesSubplot:xlabel='logGDP', ylabel='ladder'>"
      ]
     },
     "execution_count": 10,
     "metadata": {},
     "output_type": "execute_result"
    },
    {
     "data": {
      "image/png": "[encoded data removed]",
      "text/plain": [
       "<Figure size 432x288 with 1 Axes>"
      ]
     },
     "metadata": {
      "needs_background": "light"
     },
     "output_type": "display_data"
    }
   ],
   "source": [
    "# How does GDP affect the happiness score?\n",
    "final_df.plot.scatter(x= 'logGDP', y='ladder')"
   ]
  },
  {
   "cell_type": "code",
   "execution_count": 11,
   "id": "cdb0aa53",
   "metadata": {},
   "outputs": [
    {
     "data": {
      "text/plain": [
       "<AxesSubplot:xlabel='social_support', ylabel='ladder'>"
      ]
     },
     "execution_count": 11,
     "metadata": {},
     "output_type": "execute_result"
    },
    {
     "data": {
      "image/png": "[encoded data removed]",
      "text/plain": [
       "<Figure size 432x288 with 1 Axes>"
      ]
     },
     "metadata": {
      "needs_background": "light"
     },
     "output_type": "display_data"
    }
   ],
   "source": [
    "# How does Family Support affect the happiness score?\n",
    "final_df.plot.scatter(x= 'social_support', y='ladder')"
   ]
  },
  {
   "cell_type": "code",
   "execution_count": 12,
   "id": "cd4820c8",
   "metadata": {},
   "outputs": [
    {
     "data": {
      "text/plain": [
       "<AxesSubplot:xlabel='freedom', ylabel='ladder'>"
      ]
     },
     "execution_count": 12,
     "metadata": {},
     "output_type": "execute_result"
    },
    {
     "data": {
      "image/png": "[encoded data removed]",
      "text/plain": [
       "<Figure size 432x288 with 1 Axes>"
      ]
     },
     "metadata": {
      "needs_background": "light"
     },
     "output_type": "display_data"
    }
   ],
   "source": [
    "# How does Freedom affect the happiness score?\n",
    "final_df.plot.scatter(x= 'freedom', y='ladder')"
   ]
  },
  {
   "cell_type": "code",
   "execution_count": 13,
   "id": "1168676e",
   "metadata": {},
   "outputs": [
    {
     "data": {
      "text/plain": [
       "<AxesSubplot:xlabel='corruption', ylabel='ladder'>"
      ]
     },
     "execution_count": 13,
     "metadata": {},
     "output_type": "execute_result"
    },
    {
     "data": {
      "image/png": "[encoded data removed]",
      "text/plain": [
       "<Figure size 432x288 with 1 Axes>"
      ]
     },
     "metadata": {
      "needs_background": "light"
     },
     "output_type": "display_data"
    }
   ],
   "source": [
    "# How does Corruption affect the happiness score?\n",
    "final_df.plot.scatter(x= 'corruption', y='ladder')"
   ]
  },
  {
   "cell_type": "code",
   "execution_count": 14,
   "id": "03f85a4a",
   "metadata": {},
   "outputs": [
    {
     "data": {
      "text/plain": [
       "<AxesSubplot:xlabel='generosity', ylabel='ladder'>"
      ]
     },
     "execution_count": 14,
     "metadata": {},
     "output_type": "execute_result"
    },
    {
     "data": {
      "image/png": "[encoded data removed]",
      "text/plain": [
       "<Figure size 432x288 with 1 Axes>"
      ]
     },
     "metadata": {
      "needs_background": "light"
     },
     "output_type": "display_data"
    }
   ],
   "source": [
    "# How does Generosity affect the happiness score?\n",
    "final_df.plot.scatter(x= 'generosity', y='ladder')"
   ]
  },
  {
   "cell_type": "code",
   "execution_count": 15,
   "id": "07549f4b",
   "metadata": {},
   "outputs": [
    {
     "name": "stderr",
     "output_type": "stream",
     "text": [
      "C:\\Users\\Work\\anaconda3\\envs\\PythonAdv\\lib\\site-packages\\pandas\\core\\frame.py:4174: SettingWithCopyWarning: \n",
      "A value is trying to be set on a copy of a slice from a DataFrame\n",
      "\n",
      "See the caveats in the documentation: https://pandas.pydata.org/pandas-docs/stable/user_guide/indexing.html#returning-a-view-versus-a-copy\n",
      "  errors=errors,\n"
     ]
    }
   ],
   "source": [
    "# Drop the country_id Country and Code columns as they are mere labels\n",
    "final_df.drop(columns=['country', 'year'], axis=1, inplace=True)"
   ]
  },
  {
   "cell_type": "code",
   "execution_count": 16,
   "id": "ac75796e",
   "metadata": {},
   "outputs": [
    {
     "data": {
      "text/html": [
       "<div>\n",
       "<style scoped>\n",
       "    .dataframe tbody tr th:only-of-type {\n",
       "        vertical-align: middle;\n",
       "    }\n",
       "\n",
       "    .dataframe tbody tr th {\n",
       "        vertical-align: top;\n",
       "    }\n",
       "\n",
       "    .dataframe thead th {\n",
       "        text-align: right;\n",
       "    }\n",
       "</style>\n",
       "<table border=\"1\" class=\"dataframe\">\n",
       "  <thead>\n",
       "    <tr style=\"text-align: right;\">\n",
       "      <th></th>\n",
       "      <th>ladder</th>\n",
       "      <th>logGDP</th>\n",
       "      <th>social_support</th>\n",
       "      <th>healthy_life_expectancy</th>\n",
       "      <th>freedom</th>\n",
       "      <th>generosity</th>\n",
       "      <th>corruption</th>\n",
       "    </tr>\n",
       "  </thead>\n",
       "  <tbody>\n",
       "    <tr>\n",
       "      <th>0</th>\n",
       "      <td>3.983</td>\n",
       "      <td>7.702</td>\n",
       "      <td>0.529</td>\n",
       "      <td>53.2</td>\n",
       "      <td>0.389</td>\n",
       "      <td>0.080</td>\n",
       "      <td>0.881</td>\n",
       "    </tr>\n",
       "    <tr>\n",
       "      <th>1</th>\n",
       "      <td>4.220</td>\n",
       "      <td>7.697</td>\n",
       "      <td>0.559</td>\n",
       "      <td>53.0</td>\n",
       "      <td>0.523</td>\n",
       "      <td>0.042</td>\n",
       "      <td>0.793</td>\n",
       "    </tr>\n",
       "    <tr>\n",
       "      <th>2</th>\n",
       "      <td>2.662</td>\n",
       "      <td>7.697</td>\n",
       "      <td>0.491</td>\n",
       "      <td>52.8</td>\n",
       "      <td>0.427</td>\n",
       "      <td>-0.121</td>\n",
       "      <td>0.954</td>\n",
       "    </tr>\n",
       "    <tr>\n",
       "      <th>3</th>\n",
       "      <td>4.607</td>\n",
       "      <td>9.403</td>\n",
       "      <td>0.639</td>\n",
       "      <td>67.8</td>\n",
       "      <td>0.704</td>\n",
       "      <td>-0.081</td>\n",
       "      <td>0.885</td>\n",
       "    </tr>\n",
       "    <tr>\n",
       "      <th>4</th>\n",
       "      <td>4.511</td>\n",
       "      <td>9.437</td>\n",
       "      <td>0.638</td>\n",
       "      <td>68.1</td>\n",
       "      <td>0.730</td>\n",
       "      <td>-0.017</td>\n",
       "      <td>0.901</td>\n",
       "    </tr>\n",
       "  </tbody>\n",
       "</table>\n",
       "</div>"
      ],
      "text/plain": [
       "   ladder  logGDP  social_support  healthy_life_expectancy  freedom  \\\n",
       "0   3.983   7.702           0.529                     53.2    0.389   \n",
       "1   4.220   7.697           0.559                     53.0    0.523   \n",
       "2   2.662   7.697           0.491                     52.8    0.427   \n",
       "3   4.607   9.403           0.639                     67.8    0.704   \n",
       "4   4.511   9.437           0.638                     68.1    0.730   \n",
       "\n",
       "   generosity  corruption  \n",
       "0       0.080       0.881  \n",
       "1       0.042       0.793  \n",
       "2      -0.121       0.954  \n",
       "3      -0.081       0.885  \n",
       "4      -0.017       0.901  "
      ]
     },
     "execution_count": 16,
     "metadata": {},
     "output_type": "execute_result"
    }
   ],
   "source": [
    "final_df.head()"
   ]
  },
  {
   "cell_type": "code",
   "execution_count": 17,
   "id": "9e408891",
   "metadata": {},
   "outputs": [
    {
     "data": {
      "text/plain": [
       "ladder                      0\n",
       "logGDP                      7\n",
       "social_support              2\n",
       "healthy_life_expectancy    13\n",
       "freedom                     6\n",
       "generosity                 10\n",
       "corruption                 31\n",
       "dtype: int64"
      ]
     },
     "execution_count": 17,
     "metadata": {},
     "output_type": "execute_result"
    }
   ],
   "source": [
    "# Checking how many of the cells have null values and what percent of each feature is null to later determine \n",
    "# how we will deal with them. It can be seen that there are no null values in any of the columns\n",
    "final_df.isnull().sum()"
   ]
  },
  {
   "cell_type": "code",
   "execution_count": 18,
   "id": "38e85241",
   "metadata": {},
   "outputs": [
    {
     "name": "stdout",
     "output_type": "stream",
     "text": [
      "ladder : 0.00%\n",
      "logGDP : 1.62%\n",
      "social_support : 0.46%\n",
      "healthy_life_expectancy : 3.01%\n",
      "freedom : 1.39%\n",
      "generosity : 2.31%\n",
      "corruption : 7.18%\n"
     ]
    }
   ],
   "source": [
    "for col in final_df.columns:\n",
    "  print(col,  ': %.2f%%' %((final_df[col].isnull().sum()/final_df.shape[0])*100))"
   ]
  },
  {
   "cell_type": "code",
   "execution_count": 19,
   "id": "baa84756",
   "metadata": {},
   "outputs": [],
   "source": [
    "final_df1 = final_df.dropna()"
   ]
  },
  {
   "cell_type": "code",
   "execution_count": 20,
   "id": "2e7bbc55",
   "metadata": {},
   "outputs": [
    {
     "name": "stdout",
     "output_type": "stream",
     "text": [
      "<class 'pandas.core.frame.DataFrame'>\n",
      "Int64Index: 383 entries, 0 to 431\n",
      "Data columns (total 7 columns):\n",
      " #   Column                   Non-Null Count  Dtype  \n",
      "---  ------                   --------------  -----  \n",
      " 0   ladder                   383 non-null    float64\n",
      " 1   logGDP                   383 non-null    float64\n",
      " 2   social_support           383 non-null    float64\n",
      " 3   healthy_life_expectancy  383 non-null    float64\n",
      " 4   freedom                  383 non-null    float64\n",
      " 5   generosity               383 non-null    float64\n",
      " 6   corruption               383 non-null    float64\n",
      "dtypes: float64(7)\n",
      "memory usage: 23.9 KB\n"
     ]
    }
   ],
   "source": [
    "final_df1.info()"
   ]
  },
  {
   "cell_type": "code",
   "execution_count": 21,
   "id": "f8f61ff0",
   "metadata": {},
   "outputs": [
    {
     "data": {
      "text/plain": [
       "ladder                     1.000000\n",
       "logGDP                     0.815349\n",
       "social_support             0.748315\n",
       "healthy_life_expectancy    0.786402\n",
       "freedom                    0.507745\n",
       "generosity                 0.175864\n",
       "corruption                -0.445045\n",
       "Name: ladder, dtype: float64"
      ]
     },
     "execution_count": 21,
     "metadata": {},
     "output_type": "execute_result"
    }
   ],
   "source": [
    "# Correlation with Target feature. All features seem correlated with our target feature, thsu we will drop none\n",
    "final_df1.corr()['ladder']"
   ]
  },
  {
   "cell_type": "code",
   "execution_count": 22,
   "id": "43eaa88c",
   "metadata": {},
   "outputs": [
    {
     "data": {
      "text/html": [
       "<div>\n",
       "<style scoped>\n",
       "    .dataframe tbody tr th:only-of-type {\n",
       "        vertical-align: middle;\n",
       "    }\n",
       "\n",
       "    .dataframe tbody tr th {\n",
       "        vertical-align: top;\n",
       "    }\n",
       "\n",
       "    .dataframe thead th {\n",
       "        text-align: right;\n",
       "    }\n",
       "</style>\n",
       "<table border=\"1\" class=\"dataframe\">\n",
       "  <thead>\n",
       "    <tr style=\"text-align: right;\">\n",
       "      <th></th>\n",
       "      <th>logGDP</th>\n",
       "      <th>social_support</th>\n",
       "      <th>healthy_life_expectancy</th>\n",
       "      <th>freedom</th>\n",
       "      <th>generosity</th>\n",
       "      <th>corruption</th>\n",
       "    </tr>\n",
       "  </thead>\n",
       "  <tbody>\n",
       "    <tr>\n",
       "      <th>0</th>\n",
       "      <td>7.702</td>\n",
       "      <td>0.529</td>\n",
       "      <td>53.2</td>\n",
       "      <td>0.389</td>\n",
       "      <td>0.080</td>\n",
       "      <td>0.881</td>\n",
       "    </tr>\n",
       "    <tr>\n",
       "      <th>1</th>\n",
       "      <td>7.697</td>\n",
       "      <td>0.559</td>\n",
       "      <td>53.0</td>\n",
       "      <td>0.523</td>\n",
       "      <td>0.042</td>\n",
       "      <td>0.793</td>\n",
       "    </tr>\n",
       "    <tr>\n",
       "      <th>2</th>\n",
       "      <td>7.697</td>\n",
       "      <td>0.491</td>\n",
       "      <td>52.8</td>\n",
       "      <td>0.427</td>\n",
       "      <td>-0.121</td>\n",
       "      <td>0.954</td>\n",
       "    </tr>\n",
       "    <tr>\n",
       "      <th>3</th>\n",
       "      <td>9.403</td>\n",
       "      <td>0.639</td>\n",
       "      <td>67.8</td>\n",
       "      <td>0.704</td>\n",
       "      <td>-0.081</td>\n",
       "      <td>0.885</td>\n",
       "    </tr>\n",
       "    <tr>\n",
       "      <th>4</th>\n",
       "      <td>9.437</td>\n",
       "      <td>0.638</td>\n",
       "      <td>68.1</td>\n",
       "      <td>0.730</td>\n",
       "      <td>-0.017</td>\n",
       "      <td>0.901</td>\n",
       "    </tr>\n",
       "  </tbody>\n",
       "</table>\n",
       "</div>"
      ],
      "text/plain": [
       "   logGDP  social_support  healthy_life_expectancy  freedom  generosity  \\\n",
       "0   7.702           0.529                     53.2    0.389       0.080   \n",
       "1   7.697           0.559                     53.0    0.523       0.042   \n",
       "2   7.697           0.491                     52.8    0.427      -0.121   \n",
       "3   9.403           0.639                     67.8    0.704      -0.081   \n",
       "4   9.437           0.638                     68.1    0.730      -0.017   \n",
       "\n",
       "   corruption  \n",
       "0       0.881  \n",
       "1       0.793  \n",
       "2       0.954  \n",
       "3       0.885  \n",
       "4       0.901  "
      ]
     },
     "execution_count": 22,
     "metadata": {},
     "output_type": "execute_result"
    }
   ],
   "source": [
    "# Split the data\n",
    "X = final_df1.iloc[:,1:]\n",
    "y = final_df1.iloc[:, 0]\n",
    "X.head()"
   ]
  },
  {
   "cell_type": "code",
   "execution_count": 23,
   "id": "c4c876a8",
   "metadata": {},
   "outputs": [
    {
     "data": {
      "text/plain": [
       "0    3.983\n",
       "1    4.220\n",
       "2    2.662\n",
       "3    4.607\n",
       "4    4.511\n",
       "Name: ladder, dtype: float64"
      ]
     },
     "execution_count": 23,
     "metadata": {},
     "output_type": "execute_result"
    }
   ],
   "source": [
    "y.head()"
   ]
  },
  {
   "cell_type": "code",
   "execution_count": 24,
   "id": "4b540e68",
   "metadata": {},
   "outputs": [],
   "source": [
    "# Split the X and y into training and test\n",
    "X_train, X_test, y_train, y_test = train_test_split(X, y, test_size = 0.3, random_state = 101)"
   ]
  },
  {
   "cell_type": "code",
   "execution_count": 25,
   "id": "20d6d18b",
   "metadata": {},
   "outputs": [],
   "source": [
    "# Scaling features\n",
    "scaler = Normalizer().fit(X_train) \n",
    "LR_X_train = scaler.transform(X_train) \n",
    "LR_X_test = scaler.transform(X_test)"
   ]
  },
  {
   "cell_type": "code",
   "execution_count": 26,
   "id": "81c95cc6",
   "metadata": {},
   "outputs": [
    {
     "name": "stdout",
     "output_type": "stream",
     "text": [
      "Standard linear regression R2 =  0.5400230110563432 \n",
      "\n",
      "Standard linear regression coefficients :\n",
      "logGDP : 460.1748707587809\n",
      "social_support : 198.56353353566445\n",
      "healthy_life_expectancy : 2964.519720332795\n",
      "freedom : -0.1893445670939419\n",
      "generosity : 3.029498055247936\n",
      "corruption : -179.65370893315745\n"
     ]
    }
   ],
   "source": [
    "# Standard Linear Regression\n",
    "reg = LinearRegression().fit(LR_X_train, y_train)\n",
    "y_pred = reg.predict(LR_X_test)\n",
    "r2 = r2_score(y_test, y_pred)\n",
    "print(\"Standard linear regression R2 = \", r2, \"\\n\")\n",
    "coef = reg.coef_\n",
    "print(\"Standard linear regression coefficients :\")\n",
    "i = 0; \n",
    "for col in X.columns:\n",
    "  print(col, \":\", coef[i])\n",
    "  i = i + 1"
   ]
  },
  {
   "cell_type": "code",
   "execution_count": 27,
   "id": "49b8597e",
   "metadata": {},
   "outputs": [
    {
     "name": "stdout",
     "output_type": "stream",
     "text": [
      "Ridge linear regression R2 =  -0.014645459945026973 \n",
      "\n",
      "Ridge linear regression coefficients :\n",
      "logGDP : 460.1748707587809\n",
      "social_support : 198.56353353566445\n",
      "healthy_life_expectancy : 2964.519720332795\n",
      "freedom : -0.1893445670939419\n",
      "generosity : 3.029498055247936\n",
      "corruption : -179.65370893315745\n"
     ]
    }
   ],
   "source": [
    "# Ridge Regression\n",
    "ridge_reg = Ridge().fit(LR_X_train, y_train)\n",
    "y_pred = ridge_reg.predict(LR_X_test)\n",
    "r2 = r2_score(y_test, y_pred)\n",
    "print(\"Ridge linear regression R2 = \", r2, \"\\n\")\n",
    "coef = reg.coef_\n",
    "print(\"Ridge linear regression coefficients :\")\n",
    "i = 0; \n",
    "for col in X.columns:\n",
    "  print(col, \":\", coef[i])\n",
    "  i = i + 1"
   ]
  },
  {
   "cell_type": "code",
   "execution_count": 28,
   "id": "0850ef87",
   "metadata": {},
   "outputs": [
    {
     "name": "stdout",
     "output_type": "stream",
     "text": [
      "Lasso linear regression R2 =  -0.01888890591348913 \n",
      "\n",
      "Lasso linear regression coefficients :\n",
      "logGDP : 460.1748707587809\n",
      "social_support : 198.56353353566445\n",
      "healthy_life_expectancy : 2964.519720332795\n",
      "freedom : -0.1893445670939419\n",
      "generosity : 3.029498055247936\n",
      "corruption : -179.65370893315745\n"
     ]
    }
   ],
   "source": [
    "# Lasso Regression\n",
    "lasso_reg = Lasso().fit(LR_X_train, y_train)\n",
    "y_pred = lasso_reg.predict(LR_X_test)\n",
    "r2 = r2_score(y_test, y_pred)\n",
    "print(\"Lasso linear regression R2 = \", r2, \"\\n\")\n",
    "coef = reg.coef_\n",
    "print(\"Lasso linear regression coefficients :\")\n",
    "i = 0; \n",
    "for col in X.columns:\n",
    "  print(col, \":\", coef[i])\n",
    "  i = i + 1"
   ]
  },
  {
   "cell_type": "code",
   "execution_count": 29,
   "id": "7bc0a54e",
   "metadata": {},
   "outputs": [
    {
     "name": "stdout",
     "output_type": "stream",
     "text": [
      "Best alpha =  10000.0\n"
     ]
    }
   ],
   "source": [
    "lasso_reg = LassoCV(alphas = [0.1, 1, 10, 100, 500, 1000, 10000]).fit(LR_X_train, y_train) \n",
    "print(\"Best alpha = \", lasso_reg.alpha_)"
   ]
  },
  {
   "cell_type": "code",
   "execution_count": 30,
   "id": "daf2114b",
   "metadata": {},
   "outputs": [
    {
     "name": "stdout",
     "output_type": "stream",
     "text": [
      "Standard linear regression R2 =  0.7442948191091667 \n",
      "\n",
      "Standard linear regression coefficients :\n",
      "logGDP : 0.39911427332346777\n",
      "social_support : 2.2509121669084267\n",
      "healthy_life_expectancy : 0.02874430815486829\n",
      "freedom : 1.405561147233121\n",
      "generosity : 0.24675781950465145\n",
      "corruption : -0.46172161351578256\n"
     ]
    }
   ],
   "source": [
    "# Linear Regression without normalization and with Standardization\n",
    "reg = LinearRegression().fit(X_train, y_train)\n",
    "y_pred = reg.predict(X_test)\n",
    "r2 = r2_score(y_test, y_pred)\n",
    "print(\"Standard linear regression R2 = \", r2, \"\\n\")\n",
    "coef = reg.coef_\n",
    "print(\"Standard linear regression coefficients :\")\n",
    "i = 0; \n",
    "for col in X.columns:\n",
    "  print(col, \":\", coef[i])\n",
    "  i = i + 1"
   ]
  },
  {
   "cell_type": "code",
   "execution_count": 31,
   "id": "1d85765f",
   "metadata": {},
   "outputs": [],
   "source": [
    "scaler = StandardScaler().fit(X_train) \n",
    "S_X_train = scaler.transform(X_train) \n",
    "S_X_test = scaler.transform(X_test)"
   ]
  },
  {
   "cell_type": "code",
   "execution_count": 32,
   "id": "b295509c",
   "metadata": {},
   "outputs": [
    {
     "name": "stdout",
     "output_type": "stream",
     "text": [
      "Standard linear regression R2 =  0.7442948191091662 \n",
      "\n",
      "Standard linear regression coefficients :\n",
      "logGDP : 0.471185046021422\n",
      "social_support : 0.28661760048205875\n",
      "healthy_life_expectancy : 0.20738556298919708\n",
      "freedom : 0.1863885336205835\n",
      "generosity : 0.03928332845112789\n",
      "corruption : -0.08518673858540414\n"
     ]
    }
   ],
   "source": [
    "reg = LinearRegression().fit(S_X_train, y_train)\n",
    "y_pred = reg.predict(S_X_test)\n",
    "r2 = r2_score(y_test, y_pred)\n",
    "print(\"Standard linear regression R2 = \", r2, \"\\n\")\n",
    "coef = reg.coef_\n",
    "print(\"Standard linear regression coefficients :\")\n",
    "i = 0; \n",
    "for col in X.columns:\n",
    "  print(col, \":\", coef[i])\n",
    "  i = i + 1"
   ]
  },
  {
   "cell_type": "code",
   "execution_count": 33,
   "id": "47ae7649",
   "metadata": {},
   "outputs": [
    {
     "name": "stdout",
     "output_type": "stream",
     "text": [
      "Ridge linear regression R2 =  0.7445882258066501 \n",
      "\n",
      "Ridge linear regression coefficients :\n",
      "logGDP : 0.471185046021422\n",
      "social_support : 0.28661760048205875\n",
      "healthy_life_expectancy : 0.20738556298919708\n",
      "freedom : 0.1863885336205835\n",
      "generosity : 0.03928332845112789\n",
      "corruption : -0.08518673858540414\n"
     ]
    }
   ],
   "source": [
    "ridge_reg = Ridge().fit(S_X_train, y_train)\n",
    "y_pred = ridge_reg.predict(S_X_test)\n",
    "r2 = r2_score(y_test, y_pred)\n",
    "print(\"Ridge linear regression R2 = \", r2, \"\\n\")\n",
    "coef = reg.coef_\n",
    "print(\"Ridge linear regression coefficients :\")\n",
    "i = 0; \n",
    "for col in X.columns:\n",
    "  print(col, \":\", coef[i])\n",
    "  i = i + 1"
   ]
  },
  {
   "cell_type": "code",
   "execution_count": 34,
   "id": "5ccf12d8",
   "metadata": {},
   "outputs": [
    {
     "name": "stdout",
     "output_type": "stream",
     "text": [
      "Lasso linear regression R2 =  -0.01888890591348913 \n",
      "\n",
      "Lasso linear regression coefficients :\n",
      "logGDP : 0.471185046021422\n",
      "social_support : 0.28661760048205875\n",
      "healthy_life_expectancy : 0.20738556298919708\n",
      "freedom : 0.1863885336205835\n",
      "generosity : 0.03928332845112789\n",
      "corruption : -0.08518673858540414\n"
     ]
    }
   ],
   "source": [
    "lasso_reg = Lasso().fit(S_X_train, y_train)\n",
    "y_pred = lasso_reg.predict(S_X_test)\n",
    "r2 = r2_score(y_test, y_pred)\n",
    "print(\"Lasso linear regression R2 = \", r2, \"\\n\")\n",
    "coef = reg.coef_\n",
    "print(\"Lasso linear regression coefficients :\")\n",
    "i = 0; \n",
    "for col in X.columns:\n",
    "  print(col, \":\", coef[i])\n",
    "  i = i + 1"
   ]
  },
  {
   "cell_type": "code",
   "execution_count": 35,
   "id": "9a0a70ae",
   "metadata": {},
   "outputs": [
    {
     "data": {
      "text/plain": [
       "0.8061569020198477"
      ]
     },
     "execution_count": 35,
     "metadata": {},
     "output_type": "execute_result"
    }
   ],
   "source": [
    "regressor = KNeighborsRegressor()\n",
    "regressor.fit(X_train, y_train)\n",
    "y_pred = regressor.predict(X_test)\n",
    "r2_score(y_test, y_pred)"
   ]
  },
  {
   "cell_type": "code",
   "execution_count": 36,
   "id": "6d29a603",
   "metadata": {},
   "outputs": [
    {
     "name": "stdout",
     "output_type": "stream",
     "text": [
      "score for 3 fold CV is : 0.8571095098399644\n",
      "Best result {'algorithm': 'auto', 'n_neighbors': 4, 'p': 1, 'weights': 'distance'}\n",
      "score for 4 fold CV is : 0.8476404393689969\n",
      "Best result {'algorithm': 'auto', 'n_neighbors': 6, 'p': 1, 'weights': 'distance'}\n",
      "score for 5 fold CV is : 0.8476404393689969\n",
      "Best result {'algorithm': 'auto', 'n_neighbors': 6, 'p': 1, 'weights': 'distance'}\n"
     ]
    }
   ],
   "source": [
    "hp = {'n_neighbors':np.arange(3,7), \n",
    "      'weights': ['uniform', 'distance'], \n",
    "      'algorithm' : ['auto', 'ball_tree', 'kd_tree', 'brute'],\n",
    "      'p': [1, 2]}\n",
    "\n",
    "for cv in range(3,6):\n",
    "    grid = GridSearchCV(regressor, param_grid  = hp  , cv = cv, scoring = make_scorer(r2_score))\n",
    "    grid.fit(X_train,y_train)\n",
    "    print(f\"score for {cv} fold CV is : {grid.score(X_test,y_test)}\")\n",
    "    print(f\"Best result {grid.best_params_}\")\n",
    "\n",
    "KNN_Reg1 = grid.best_estimator_"
   ]
  },
  {
   "cell_type": "code",
   "execution_count": 37,
   "id": "8dc76892",
   "metadata": {},
   "outputs": [
    {
     "data": {
      "text/plain": [
       "0.7221005829986336"
      ]
     },
     "execution_count": 37,
     "metadata": {},
     "output_type": "execute_result"
    }
   ],
   "source": [
    "regressor = DecisionTreeRegressor()\n",
    "regressor.fit(X_train, y_train)\n",
    "y_pred = regressor.predict(X_test)\n",
    "r2_score(y_test, y_pred)"
   ]
  },
  {
   "cell_type": "code",
   "execution_count": 38,
   "id": "fe22ef77",
   "metadata": {},
   "outputs": [
    {
     "data": {
      "text/plain": [
       "0.4110498123113683"
      ]
     },
     "execution_count": 38,
     "metadata": {},
     "output_type": "execute_result"
    }
   ],
   "source": [
    "regressor = DecisionTreeRegressor()\n",
    "regressor.fit(LR_X_train, y_train)\n",
    "y_pred = regressor.predict(LR_X_test)\n",
    "r2_score(y_test, y_pred)"
   ]
  },
  {
   "cell_type": "code",
   "execution_count": 39,
   "id": "2bafd965",
   "metadata": {},
   "outputs": [
    {
     "name": "stdout",
     "output_type": "stream",
     "text": [
      "score for 3 fold CV is : 0.7153968938451684\n",
      "Best result {'criterion': 'mse', 'max_depth': 4, 'max_features': 'log2', 'splitter': 'best'}\n",
      "score for 4 fold CV is : 0.7267520998028806\n",
      "Best result {'criterion': 'mae', 'max_depth': 5, 'max_features': 'auto', 'splitter': 'best'}\n",
      "score for 5 fold CV is : 0.6822362164593039\n",
      "Best result {'criterion': 'mse', 'max_depth': 5, 'max_features': 'auto', 'splitter': 'best'}\n"
     ]
    }
   ],
   "source": [
    "hp = {'criterion':['mse', 'friedman_mse', 'mae'], \n",
    "      'max_depth':np.arange(1,20),\n",
    "      'splitter': ['best', 'random'], \n",
    "      'max_features' : ['auto', 'sqrt', 'log2']}\n",
    "\n",
    "for cv in range(3,6):\n",
    "    grid = GridSearchCV(regressor, param_grid  = hp  , cv = cv, scoring = make_scorer(r2_score))\n",
    "    grid.fit(X_train,y_train)\n",
    "    print(f\"score for {cv} fold CV is : {grid.score(X_test,y_test)}\")\n",
    "    print(f\"Best result {grid.best_params_}\")"
   ]
  },
  {
   "cell_type": "code",
   "execution_count": 40,
   "id": "82080264",
   "metadata": {},
   "outputs": [
    {
     "name": "stdout",
     "output_type": "stream",
     "text": [
      "0 feature logGDP 0.7274852179378506\n",
      "1 feature healthy_life_expectancy 0.168129759995613\n",
      "2 feature social_support 0.041616243210361024\n",
      "3 feature freedom 0.03961337054917984\n",
      "4 feature corruption 0.018015622906258584\n",
      "5 feature generosity 0.005139785400737051\n"
     ]
    },
    {
     "data": {
      "image/png": "[encoded data removed]",
      "text/plain": [
       "<Figure size 720x720 with 1 Axes>"
      ]
     },
     "metadata": {
      "needs_background": "light"
     },
     "output_type": "display_data"
    }
   ],
   "source": [
    "Reg_Tree1 = grid.best_estimator_\n",
    "\n",
    "feature_names = list(X_train.columns)\n",
    "\n",
    "importances = Reg_Tree1.feature_importances_\n",
    "\n",
    "indices = np.argsort(importances)[::-1]\n",
    "\n",
    "for f in range(X_train.shape[1]):\n",
    "    print(f'{f} feature {feature_names[indices[f]]} {importances[indices[f]]}')\n",
    "\n",
    "\n",
    "plt.figure(figsize=(10, 10))\n",
    "plt.title(\"Feature importances - Simple Regression Tree\")\n",
    "plt.bar(range(X_train.shape[1]), importances[indices],\n",
    "        color=\"r\", align=\"center\")\n",
    "plt.xlim([-1, X_train.shape[1]])\n",
    "plt.show()"
   ]
  },
  {
   "cell_type": "code",
   "execution_count": null,
   "id": "b1331ac8",
   "metadata": {},
   "outputs": [],
   "source": []
  }
 ],
 "metadata": {
  "kernelspec": {
   "display_name": "Python [conda env:PythonAdv]",
   "language": "python",
   "name": "conda-env-PythonAdv-py"
  },
  "language_info": {
   "codemirror_mode": {
    "name": "ipython",
    "version": 3
   },
   "file_extension": ".py",
   "mimetype": "text/x-python",
   "name": "python",
   "nbconvert_exporter": "python",
   "pygments_lexer": "ipython3",
   "version": "3.6.13"
  }
 },
 "nbformat": 4,
 "nbformat_minor": 5
}
